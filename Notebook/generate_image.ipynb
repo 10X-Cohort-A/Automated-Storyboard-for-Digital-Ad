{
 "cells": [
  {
   "cell_type": "code",
   "execution_count": 2,
   "metadata": {},
   "outputs": [],
   "source": [
    "from openai import OpenAI\n",
    "from dotenv import load_dotenv\n",
    "import os\n",
    "\n",
    "import cv2\n",
    "\n",
    "import numpy as np\n",
    "\n",
    "from typing import Optional"
   ]
  },
  {
   "cell_type": "code",
   "execution_count": 6,
   "metadata": {},
   "outputs": [],
   "source": [
    "# Load environment variables from .env file\n",
    "load_dotenv()\n",
    "\n",
    "# Get the OpenAI API key from the environment\n",
    "api_key = os.getenv(\"OPENAI_API_KEY\")"
   ]
  },
  {
   "cell_type": "code",
   "execution_count": 7,
   "metadata": {},
   "outputs": [],
   "source": [
    "\n",
    "# Check if the API key is available\n",
    "if not api_key:\n",
    "    raise ValueError(\"API key is not set. Make sure it is available in your .env file.\")\n",
    "\n",
    "def generate_image(prompt: str) -> str:\n",
    "    \"\"\"\n",
    "    Generate an image using the OpenAI Images API based on the given prompt.\n",
    "\n",
    "    Args:\n",
    "    - prompt (str): The text prompt to generate the image.\n",
    "\n",
    "    Returns:\n",
    "    - str: The URL of the generated image.\n",
    "    \"\"\"\n",
    "    try:\n",
    "        client = OpenAI(api_key=api_key)\n",
    "\n",
    "        response = client.images.generate(\n",
    "            model=\"dall-e-3\",\n",
    "            prompt=prompt,\n",
    "            quality=\"hd\",\n",
    "            n=1,\n",
    "        )\n",
    "\n",
    "        image_url = response.data[0].url\n",
    "        print(\"Image generated successfully\")\n",
    "\n",
    "        return image_url\n",
    "    except Exception as e:\n",
    "        print(f\"Error while generating image: {e}\")\n",
    "        return \"\""
   ]
  },
  {
   "cell_type": "code",
   "execution_count": 8,
   "metadata": {},
   "outputs": [
    {
     "name": "stdout",
     "output_type": "stream",
     "text": [
      "Error while generating image: Error code: 401 - {'error': {'code': 'invalid_api_key', 'message': 'Incorrect API key provided: sk-P7Tbb***************************************ZsYd. You can find your API key at https://platform.openai.com/account/api-keys.', 'param': None, 'type': 'invalid_request_error'}}\n"
     ]
    }
   ],
   "source": [
    "image_url = generate_image(\"Generate an image depicting the tagline \"'YOUR CITY, NO LIMITS'\" in a vibrant and bold style. The tagline should be prominently displayed in the center of the image, surrounded by elements that evoke the dynamic and creative atmosphere of LEGO CITY. Incorporate colorful and playful visual elements that resonate with the LEGO brand identity. The background should complement the tagline, enhancing its impact and conveying a sense of boundless adventure and excitement. The overall composition should capture the viewer's attention and align with the theme of the advertisement concept, setting the stage for the upcoming challenge. Ensure that the image is of high quality and visually appealing, suitable for use in digital advertising campaigns.\")\n"
   ]
  }
 ],
 "metadata": {
  "kernelspec": {
   "display_name": "storybd",
   "language": "python",
   "name": "python3"
  },
  "language_info": {
   "codemirror_mode": {
    "name": "ipython",
    "version": 3
   },
   "file_extension": ".py",
   "mimetype": "text/x-python",
   "name": "python",
   "nbconvert_exporter": "python",
   "pygments_lexer": "ipython3",
   "version": "3.11.7"
  }
 },
 "nbformat": 4,
 "nbformat_minor": 2
}
